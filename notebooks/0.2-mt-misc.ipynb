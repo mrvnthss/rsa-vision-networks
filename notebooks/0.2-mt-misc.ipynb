{
 "cells": [
  {
   "cell_type": "markdown",
   "id": "dda93f74-acbb-4504-94ca-321e19da5d76",
   "metadata": {},
   "source": [
    "# Miscellaneous Stuff\n",
    "\n",
    "*Version History*\n",
    "\n",
    "* **0.0** - Implement section on centering matrix\n",
    "* **0.1** - Add section covering model size (number of parameters)\n",
    "* **0.2** - Address influence of shared activations when computing RDMs\n",
    "\n",
    "\n",
    "## Imports"
   ]
  },
  {
   "cell_type": "code",
   "execution_count": 1,
   "id": "08c678f5-c268-48c2-979a-67368e268160",
   "metadata": {},
   "outputs": [],
   "source": [
    "import torch\n",
    "from torch import nn\n",
    "\n",
    "from src.models.lenet import LeNet\n",
    "from src.rsa.rdm import compute_rdm"
   ]
  },
  {
   "cell_type": "markdown",
   "id": "a406087f-e138-47b3-b15d-a89b3e66eb94",
   "metadata": {},
   "source": [
    "## Centering Matrix\n",
    "\n",
    "The [centering matrix](https://en.wikipedia.org/wiki/Centering_matrix) of dimension $n$ is defined as\n",
    "$$\n",
    "C_n = I_n - \\frac{1}{n} J_n \\,,\n",
    "$$\n",
    "where $I_n$ is the identity matrix and $J_n$ is a matrix of all $1$'s."
   ]
  },
  {
   "cell_type": "code",
   "execution_count": 2,
   "id": "33f25b7d-f68e-4079-b2cd-c864c0039746",
   "metadata": {},
   "outputs": [],
   "source": [
    "def get_centering_matrix(n: int) -> torch.Tensor:\n",
    "    \"\"\"Return the centering matrix of dimension n.\"\"\"\n",
    "    \n",
    "    return torch.eye(n) - torch.ones(n, n) / n\n"
   ]
  },
  {
   "cell_type": "markdown",
   "id": "53182810-c5d9-4ad7-a849-59ddbdee8f40",
   "metadata": {},
   "source": [
    "### Sample Matrix"
   ]
  },
  {
   "cell_type": "code",
   "execution_count": 3,
   "id": "3434cd58-f06d-4bf3-b505-eb6c9524b80b",
   "metadata": {},
   "outputs": [
    {
     "data": {
      "text/plain": [
       "tensor([[ -8.,  -3.,   6.,   4.],\n",
       "        [ -4.,   5., -10.,  -6.],\n",
       "        [  0.,   3.,   8.,   4.]])"
      ]
     },
     "metadata": {},
     "output_type": "display_data"
    },
    {
     "name": "stdout",
     "output_type": "stream",
     "text": [
      "\n",
      "\u001b[1mRow means\u001b[0m:\n"
     ]
    },
    {
     "data": {
      "text/plain": [
       "tensor([-0.2500, -3.7500,  3.7500])"
      ]
     },
     "metadata": {},
     "output_type": "display_data"
    },
    {
     "name": "stdout",
     "output_type": "stream",
     "text": [
      "\n",
      "\u001b[1mColumn means\u001b[0m:\n"
     ]
    },
    {
     "data": {
      "text/plain": [
       "tensor([-4.0000,  1.6700,  1.3300,  0.6700])"
      ]
     },
     "metadata": {},
     "output_type": "display_data"
    }
   ],
   "source": [
    "g = torch.Generator()\n",
    "g.manual_seed(42)\n",
    "\n",
    "sample_matrix = torch.randint(low=-10, high=10, size=(3, 4), generator=g, dtype=torch.float32)\n",
    "\n",
    "display(sample_matrix)\n",
    "print(\"\\n\\033[1mRow means\\033[0m:\")\n",
    "display(torch.round(sample_matrix.mean(dim=1), decimals=2))\n",
    "print(\"\\n\\033[1mColumn means\\033[0m:\")\n",
    "display(torch.round(sample_matrix.mean(dim=0), decimals=2))"
   ]
  },
  {
   "cell_type": "markdown",
   "id": "fd0c31c8-72e3-4d99-863b-85b26a24dbae",
   "metadata": {},
   "source": [
    "### Centering Columns\n",
    "\n",
    "Multiplying a $(m \\times n)$-matrix $A$ with the centering matrix $C_m$ **from the left**, results in a matrix\n",
    "$$\n",
    "C_m A = A - \\frac{1}{m} J_m A \\,,\n",
    "$$\n",
    "whose **columns have $0$ mean**."
   ]
  },
  {
   "cell_type": "code",
   "execution_count": 4,
   "id": "87640c82-86d8-49c3-9564-f8a7105fbf64",
   "metadata": {},
   "outputs": [
    {
     "data": {
      "text/plain": [
       "tensor([[ -4.0000,  -4.6700,   4.6700,   3.3300],\n",
       "        [  0.0000,   3.3300, -11.3300,  -6.6700],\n",
       "        [  4.0000,   1.3300,   6.6700,   3.3300]])"
      ]
     },
     "metadata": {},
     "output_type": "display_data"
    },
    {
     "name": "stdout",
     "output_type": "stream",
     "text": [
      "\n",
      "\u001b[1mRow means\u001b[0m:\n"
     ]
    },
    {
     "data": {
      "text/plain": [
       "tensor([-0.1700, -3.6700,  3.8300])"
      ]
     },
     "metadata": {},
     "output_type": "display_data"
    },
    {
     "name": "stdout",
     "output_type": "stream",
     "text": [
      "\n",
      "\u001b[1mColumn means\u001b[0m:\n"
     ]
    },
    {
     "data": {
      "text/plain": [
       "tensor([0., -0., -0., -0.])"
      ]
     },
     "metadata": {},
     "output_type": "display_data"
    }
   ],
   "source": [
    "sample_matrix_col = torch.mm(get_centering_matrix(sample_matrix.size(dim=0)), sample_matrix)\n",
    "\n",
    "display(torch.round(sample_matrix_col, decimals=2))\n",
    "print(\"\\n\\033[1mRow means\\033[0m:\")\n",
    "display(torch.round(sample_matrix_col.mean(dim=1), decimals=2))\n",
    "print(\"\\n\\033[1mColumn means\\033[0m:\")\n",
    "display(torch.round(sample_matrix_col.mean(dim=0), decimals=2))"
   ]
  },
  {
   "cell_type": "markdown",
   "id": "05b46fb2-0c16-41a0-b69d-9ce1436830d4",
   "metadata": {},
   "source": [
    "The same result can be achieved by using PyTorch's ``mean`` method."
   ]
  },
  {
   "cell_type": "code",
   "execution_count": 5,
   "id": "97eee2ad-aec5-4367-b6b6-5ed2728c9f29",
   "metadata": {},
   "outputs": [
    {
     "data": {
      "text/plain": [
       "tensor([[ -4.0000,  -4.6700,   4.6700,   3.3300],\n",
       "        [  0.0000,   3.3300, -11.3300,  -6.6700],\n",
       "        [  4.0000,   1.3300,   6.6700,   3.3300]])"
      ]
     },
     "execution_count": 5,
     "metadata": {},
     "output_type": "execute_result"
    }
   ],
   "source": [
    "torch.round(sample_matrix_col - sample_matrix_col.mean(dim=0, keepdim=True), decimals=2)"
   ]
  },
  {
   "cell_type": "markdown",
   "id": "b69f575c-aff8-4c02-a3a4-1bd935f69724",
   "metadata": {},
   "source": [
    "### Centering Rows\n",
    "\n",
    "Multiplying a $(m \\times n)$-matrix $A$ with the centering matrix $C_n$ **from the right**, results in a matrix\n",
    "$$\n",
    "A C_n = A - \\frac{1}{n} A J_n \\,,\n",
    "$$\n",
    "whose **rows have $0$ mean**."
   ]
  },
  {
   "cell_type": "code",
   "execution_count": 6,
   "id": "584692dd-b955-403d-a619-8b7c5ecb2800",
   "metadata": {},
   "outputs": [
    {
     "data": {
      "text/plain": [
       "tensor([[-7.7500, -2.7500,  6.2500,  4.2500],\n",
       "        [-0.2500,  8.7500, -6.2500, -2.2500],\n",
       "        [-3.7500, -0.7500,  4.2500,  0.2500]])"
      ]
     },
     "metadata": {},
     "output_type": "display_data"
    },
    {
     "name": "stdout",
     "output_type": "stream",
     "text": [
      "\n",
      "\u001b[1mRow means\u001b[0m:\n"
     ]
    },
    {
     "data": {
      "text/plain": [
       "tensor([0., 0., 0.])"
      ]
     },
     "metadata": {},
     "output_type": "display_data"
    },
    {
     "name": "stdout",
     "output_type": "stream",
     "text": [
      "\n",
      "\u001b[1mColumn means\u001b[0m:\n"
     ]
    },
    {
     "data": {
      "text/plain": [
       "tensor([-3.9200,  1.7500,  1.4200,  0.7500])"
      ]
     },
     "metadata": {},
     "output_type": "display_data"
    }
   ],
   "source": [
    "sample_matrix_row = torch.mm(sample_matrix, get_centering_matrix(sample_matrix.size(dim=1)))\n",
    "\n",
    "display(torch.round(sample_matrix_row, decimals=2))\n",
    "print(\"\\n\\033[1mRow means\\033[0m:\")\n",
    "display(torch.round(sample_matrix_row.mean(dim=1), decimals=2))\n",
    "print(\"\\n\\033[1mColumn means\\033[0m:\")\n",
    "display(torch.round(sample_matrix_row.mean(dim=0), decimals=2))"
   ]
  },
  {
   "cell_type": "markdown",
   "id": "efb8fa0c-be31-4818-8249-4bd29e128dc7",
   "metadata": {},
   "source": [
    "Again, we can achieve the same result using PyTorch's ``mean`` method."
   ]
  },
  {
   "cell_type": "code",
   "execution_count": 7,
   "id": "86499cd4-f27b-454e-a8d9-e8fde25ab1b2",
   "metadata": {},
   "outputs": [
    {
     "data": {
      "text/plain": [
       "tensor([[-7.7500, -2.7500,  6.2500,  4.2500],\n",
       "        [-0.2500,  8.7500, -6.2500, -2.2500],\n",
       "        [-3.7500, -0.7500,  4.2500,  0.2500]])"
      ]
     },
     "execution_count": 7,
     "metadata": {},
     "output_type": "execute_result"
    }
   ],
   "source": [
    "torch.round(sample_matrix_row - sample_matrix_row.mean(dim=1, keepdim=True), decimals=2)"
   ]
  },
  {
   "cell_type": "markdown",
   "id": "93fc2632-11c2-433d-8fa7-7eb0f97fcd86",
   "metadata": {},
   "source": [
    "### Centering Rows & Columns\n",
    "\n",
    "Simultaneously multiplying a matrix $A$ with the appropriate centering matrices **from the left and right**, results in a matrix\n",
    "$$\n",
    "C_m A C_n \\,,\n",
    "$$\n",
    "whose **rows and columns both have $0$ mean**."
   ]
  },
  {
   "cell_type": "code",
   "execution_count": 8,
   "id": "fe589753-76c7-47bd-b651-224a7f3b1175",
   "metadata": {},
   "outputs": [
    {
     "data": {
      "text/plain": [
       "tensor([[-3.8300, -4.5000,  4.8300,  3.5000],\n",
       "        [ 3.6700,  7.0000, -7.6700, -3.0000],\n",
       "        [ 0.1700, -2.5000,  2.8300, -0.5000]])"
      ]
     },
     "metadata": {},
     "output_type": "display_data"
    },
    {
     "name": "stdout",
     "output_type": "stream",
     "text": [
      "\n",
      "\u001b[1mRow means\u001b[0m:\n"
     ]
    },
    {
     "data": {
      "text/plain": [
       "tensor([-0., -0., -0.])"
      ]
     },
     "metadata": {},
     "output_type": "display_data"
    },
    {
     "name": "stdout",
     "output_type": "stream",
     "text": [
      "\n",
      "\u001b[1mColumn means\u001b[0m:\n"
     ]
    },
    {
     "data": {
      "text/plain": [
       "tensor([0., -0., -0., -0.])"
      ]
     },
     "metadata": {},
     "output_type": "display_data"
    }
   ],
   "source": [
    "sample_matrix_both = torch.mm(\n",
    "    torch.mm(get_centering_matrix(sample_matrix.size(dim=0)), sample_matrix),\n",
    "    get_centering_matrix(sample_matrix.size(dim=1))\n",
    ")\n",
    "\n",
    "display(torch.round(sample_matrix_both, decimals=2))\n",
    "print(\"\\n\\033[1mRow means\\033[0m:\")\n",
    "display(torch.round(sample_matrix_both.mean(dim=1), decimals=2))\n",
    "print(\"\\n\\033[1mColumn means\\033[0m:\")\n",
    "display(torch.round(sample_matrix_both.mean(dim=0), decimals=2))"
   ]
  },
  {
   "cell_type": "markdown",
   "id": "2a8b31fe-904a-4fea-ba5d-a4b8a1d884d8",
   "metadata": {},
   "source": [
    "As before, we can achieve the same result using PyTorch's ``mean`` method."
   ]
  },
  {
   "cell_type": "code",
   "execution_count": 9,
   "id": "63d584a1-3d99-4a32-ac2a-9a5673b9a1c5",
   "metadata": {},
   "outputs": [
    {
     "data": {
      "text/plain": [
       "tensor([[-3.8300, -4.5000,  4.8300,  3.5000],\n",
       "        [ 3.6700,  7.0000, -7.6700, -3.0000],\n",
       "        [ 0.1700, -2.5000,  2.8300, -0.5000]])"
      ]
     },
     "execution_count": 9,
     "metadata": {},
     "output_type": "execute_result"
    }
   ],
   "source": [
    "torch.round(sample_matrix_both - sample_matrix_both.mean(dim=(0, 1), keepdim=True), decimals=2)"
   ]
  },
  {
   "cell_type": "markdown",
   "id": "1e15d9db-1130-4718-9c65-06697c21408a",
   "metadata": {},
   "source": [
    "## Model Parameters"
   ]
  },
  {
   "cell_type": "code",
   "execution_count": 10,
   "id": "94965073-5209-442a-b4bf-956264ed5070",
   "metadata": {},
   "outputs": [],
   "source": [
    "def count_parameters(model: nn.Module) -> int:\n",
    "    \"\"\"Count the number of trainable parameters.\n",
    "\n",
    "    Args:\n",
    "        model: The model whose parameters are to be counted.\n",
    "\n",
    "    Returns:\n",
    "        The number of trainable parameters of the ``model``.\n",
    "    \"\"\"\n",
    "    \n",
    "    return sum(p.numel() for p in model.parameters() if p.requires_grad)\n"
   ]
  },
  {
   "cell_type": "markdown",
   "id": "af6f16f8-54ce-49cd-a534-1d8488817a41",
   "metadata": {},
   "source": [
    "### LeNet-5"
   ]
  },
  {
   "cell_type": "code",
   "execution_count": 11,
   "id": "600e9f11-753a-40a2-8ef8-e8e29b14e808",
   "metadata": {},
   "outputs": [
    {
     "name": "stdout",
     "output_type": "stream",
     "text": [
      "LeNet has 61,706 trainable parameters.\n"
     ]
    }
   ],
   "source": [
    "print(f\"LeNet has {count_parameters(LeNet()):,.0f} trainable parameters.\")"
   ]
  },
  {
   "cell_type": "markdown",
   "id": "b693132e-9123-4981-a49b-89b780b825b6",
   "metadata": {},
   "source": [
    "## Computing RDMs: Shared Activations\n",
    "\n",
    "**Euclidean distance** *is* invariant to shared activations of units between stimuli, while **correlation distance** is *not*!\n",
    "\n",
    "\n",
    "### Euclidean Distance"
   ]
  },
  {
   "cell_type": "code",
   "execution_count": 12,
   "id": "0a689322-6f8f-4d3a-a655-acace55f0930",
   "metadata": {},
   "outputs": [
    {
     "name": "stdout",
     "output_type": "stream",
     "text": [
      "\u001b[1mRDM\u001b[0m:\n"
     ]
    },
    {
     "data": {
      "text/plain": [
       "tensor([1.5818, 2.0009, 2.0277])"
      ]
     },
     "metadata": {},
     "output_type": "display_data"
    },
    {
     "name": "stdout",
     "output_type": "stream",
     "text": [
      "\n",
      "\u001b[1mRDM with shared activation\u001b[0m:\n"
     ]
    },
    {
     "data": {
      "text/plain": [
       "tensor([1.5818, 2.0009, 2.0277])"
      ]
     },
     "metadata": {},
     "output_type": "display_data"
    }
   ],
   "source": [
    "# Reproducibility\n",
    "g = torch.Generator()\n",
    "g.manual_seed(42)\n",
    "\n",
    "# Generate random activations for 3 stimuli (100 activations each) & compute RDM\n",
    "activations = torch.randn(size=[3, 100], generator=g)\n",
    "rdm = compute_rdm(activations, method=\"euclidean\")\n",
    "\n",
    "# Add shared activation to 37th unit, compute RDM again\n",
    "activations[:, 36] += 2\n",
    "rdm_shared_activation = compute_rdm(activations, method=\"euclidean\")\n",
    "\n",
    "# Display results\n",
    "print(\"\\033[1mRDM\\033[0m:\")\n",
    "display(rdm)\n",
    "print(\"\\n\\033[1mRDM with shared activation\\033[0m:\")\n",
    "display(rdm_shared_activation)"
   ]
  },
  {
   "cell_type": "markdown",
   "id": "4edc353c-9b47-4b05-a3de-ec29471d3035",
   "metadata": {},
   "source": [
    "### Correlation Distance"
   ]
  },
  {
   "cell_type": "code",
   "execution_count": 13,
   "id": "1a671c45-6d92-4494-a1cd-961db8ea60cd",
   "metadata": {},
   "outputs": [
    {
     "name": "stdout",
     "output_type": "stream",
     "text": [
      "\u001b[1mRDM\u001b[0m:\n"
     ]
    },
    {
     "data": {
      "text/plain": [
       "tensor([0.7955, 0.9667, 1.0579])"
      ]
     },
     "metadata": {},
     "output_type": "display_data"
    },
    {
     "name": "stdout",
     "output_type": "stream",
     "text": [
      "\n",
      "\u001b[1mRDM with shared activation\u001b[0m:\n"
     ]
    },
    {
     "data": {
      "text/plain": [
       "tensor([0.7457, 0.9253, 0.9936])"
      ]
     },
     "metadata": {},
     "output_type": "display_data"
    }
   ],
   "source": [
    "# Reproducibility\n",
    "g = torch.Generator()\n",
    "g.manual_seed(42)\n",
    "\n",
    "# Generate random activations for 3 stimuli (100 activations each) & compute RDM\n",
    "activations = torch.randn(size=[3, 100], generator=g)\n",
    "rdm = compute_rdm(activations, method=\"correlation\")\n",
    "\n",
    "# Add shared activation to 37th unit, compute RDM again\n",
    "activations[:, 36] += 2\n",
    "rdm_shared_activation = compute_rdm(activations, method=\"correlation\")\n",
    "\n",
    "# Display results\n",
    "print(\"\\033[1mRDM\\033[0m:\")\n",
    "display(rdm)\n",
    "print(\"\\n\\033[1mRDM with shared activation\\033[0m:\")\n",
    "display(rdm_shared_activation)"
   ]
  }
 ],
 "metadata": {
  "kernelspec": {
   "display_name": "Python 3 (ipykernel)",
   "language": "python",
   "name": "python3"
  },
  "language_info": {
   "codemirror_mode": {
    "name": "ipython",
    "version": 3
   },
   "file_extension": ".py",
   "mimetype": "text/x-python",
   "name": "python",
   "nbconvert_exporter": "python",
   "pygments_lexer": "ipython3",
   "version": "3.11.9"
  }
 },
 "nbformat": 4,
 "nbformat_minor": 5
}
