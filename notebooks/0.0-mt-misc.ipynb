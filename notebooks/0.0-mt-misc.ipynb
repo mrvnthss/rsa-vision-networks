{
 "cells": [
  {
   "cell_type": "markdown",
   "id": "dda93f74-acbb-4504-94ca-321e19da5d76",
   "metadata": {},
   "source": [
    "# Miscellaneous Stuff\n",
    "\n",
    "\n",
    "## Imports"
   ]
  },
  {
   "cell_type": "code",
   "execution_count": 1,
   "id": "08c678f5-c268-48c2-979a-67368e268160",
   "metadata": {},
   "outputs": [],
   "source": [
    "import torch"
   ]
  },
  {
   "cell_type": "markdown",
   "id": "a406087f-e138-47b3-b15d-a89b3e66eb94",
   "metadata": {},
   "source": [
    "## Centering Matrix\n",
    "\n",
    "The [centering matrix](https://en.wikipedia.org/wiki/Centering_matrix) of dimension $n$ is defined as\n",
    "$$\n",
    "C_n = I_n - \\frac{1}{n} J_n \\,,\n",
    "$$\n",
    "where $I_n$ is the identity matrix and $J_n$ is a matrix of all $1$'s."
   ]
  },
  {
   "cell_type": "code",
   "execution_count": 2,
   "id": "33f25b7d-f68e-4079-b2cd-c864c0039746",
   "metadata": {},
   "outputs": [],
   "source": [
    "def get_centering_matrix(n: int) -> torch.Tensor:\n",
    "    \"\"\"Return the centering matrix of dimension n.\"\"\"\n",
    "    \n",
    "    return torch.eye(n) - torch.ones(n, n) / n\n"
   ]
  },
  {
   "cell_type": "markdown",
   "id": "53182810-c5d9-4ad7-a849-59ddbdee8f40",
   "metadata": {},
   "source": [
    "### Sample Matrix"
   ]
  },
  {
   "cell_type": "code",
   "execution_count": 3,
   "id": "3434cd58-f06d-4bf3-b505-eb6c9524b80b",
   "metadata": {},
   "outputs": [
    {
     "data": {
      "text/plain": [
       "tensor([[ -8.,  -3.,   6.,   4.],\n",
       "        [ -4.,   5., -10.,  -6.],\n",
       "        [  0.,   3.,   8.,   4.]])"
      ]
     },
     "metadata": {},
     "output_type": "display_data"
    },
    {
     "name": "stdout",
     "output_type": "stream",
     "text": [
      "\n",
      "\u001b[1mRow means\u001b[0m:\n"
     ]
    },
    {
     "data": {
      "text/plain": [
       "tensor([-0.2500, -3.7500,  3.7500])"
      ]
     },
     "metadata": {},
     "output_type": "display_data"
    },
    {
     "name": "stdout",
     "output_type": "stream",
     "text": [
      "\n",
      "\u001b[1mColumn means\u001b[0m:\n"
     ]
    },
    {
     "data": {
      "text/plain": [
       "tensor([-4.0000,  1.6700,  1.3300,  0.6700])"
      ]
     },
     "metadata": {},
     "output_type": "display_data"
    }
   ],
   "source": [
    "g = torch.Generator()\n",
    "g.manual_seed(42)\n",
    "\n",
    "sample_matrix = torch.randint(low=-10, high=10, size=(3, 4), generator=g, dtype=torch.float32)\n",
    "\n",
    "display(sample_matrix)\n",
    "print(\"\\n\\033[1mRow means\\033[0m:\")\n",
    "display(torch.round(sample_matrix.mean(dim=1), decimals=2))\n",
    "print(\"\\n\\033[1mColumn means\\033[0m:\")\n",
    "display(torch.round(sample_matrix.mean(dim=0), decimals=2))"
   ]
  },
  {
   "cell_type": "markdown",
   "id": "fd0c31c8-72e3-4d99-863b-85b26a24dbae",
   "metadata": {},
   "source": [
    "### Centering Columns\n",
    "\n",
    "Multiplying a $(m \\times n)$-matrix $A$ with the centering matrix $C_m$ **from the left**, results in a matrix\n",
    "$$\n",
    "C_m A = A - \\frac{1}{m} J_m A \\,,\n",
    "$$\n",
    "whose **columns have $0$ mean**."
   ]
  },
  {
   "cell_type": "code",
   "execution_count": 4,
   "id": "87640c82-86d8-49c3-9564-f8a7105fbf64",
   "metadata": {},
   "outputs": [
    {
     "data": {
      "text/plain": [
       "tensor([[ -4.0000,  -4.6700,   4.6700,   3.3300],\n",
       "        [  0.0000,   3.3300, -11.3300,  -6.6700],\n",
       "        [  4.0000,   1.3300,   6.6700,   3.3300]])"
      ]
     },
     "metadata": {},
     "output_type": "display_data"
    },
    {
     "name": "stdout",
     "output_type": "stream",
     "text": [
      "\n",
      "\u001b[1mRow means\u001b[0m:\n"
     ]
    },
    {
     "data": {
      "text/plain": [
       "tensor([-0.1700, -3.6700,  3.8300])"
      ]
     },
     "metadata": {},
     "output_type": "display_data"
    },
    {
     "name": "stdout",
     "output_type": "stream",
     "text": [
      "\n",
      "\u001b[1mColumn means\u001b[0m:\n"
     ]
    },
    {
     "data": {
      "text/plain": [
       "tensor([0., -0., -0., -0.])"
      ]
     },
     "metadata": {},
     "output_type": "display_data"
    }
   ],
   "source": [
    "sample_matrix_col = torch.mm(get_centering_matrix(sample_matrix.size(dim=0)), sample_matrix)\n",
    "\n",
    "display(torch.round(sample_matrix_col, decimals=2))\n",
    "print(\"\\n\\033[1mRow means\\033[0m:\")\n",
    "display(torch.round(sample_matrix_col.mean(dim=1), decimals=2))\n",
    "print(\"\\n\\033[1mColumn means\\033[0m:\")\n",
    "display(torch.round(sample_matrix_col.mean(dim=0), decimals=2))"
   ]
  },
  {
   "cell_type": "markdown",
   "id": "b69f575c-aff8-4c02-a3a4-1bd935f69724",
   "metadata": {},
   "source": [
    "### Centering Rows\n",
    "\n",
    "Multiplying a $(m \\times n)$-matrix $A$ with the centering matrix $C_n$ **from the right**, results in a matrix\n",
    "$$\n",
    "A C_n = A - \\frac{1}{n} A J_n \\,,\n",
    "$$\n",
    "whose **rows have $0$ mean**."
   ]
  },
  {
   "cell_type": "code",
   "execution_count": 5,
   "id": "584692dd-b955-403d-a619-8b7c5ecb2800",
   "metadata": {},
   "outputs": [
    {
     "data": {
      "text/plain": [
       "tensor([[-7.7500, -2.7500,  6.2500,  4.2500],\n",
       "        [-0.2500,  8.7500, -6.2500, -2.2500],\n",
       "        [-3.7500, -0.7500,  4.2500,  0.2500]])"
      ]
     },
     "metadata": {},
     "output_type": "display_data"
    },
    {
     "name": "stdout",
     "output_type": "stream",
     "text": [
      "\n",
      "\u001b[1mRow means\u001b[0m:\n"
     ]
    },
    {
     "data": {
      "text/plain": [
       "tensor([0., 0., 0.])"
      ]
     },
     "metadata": {},
     "output_type": "display_data"
    },
    {
     "name": "stdout",
     "output_type": "stream",
     "text": [
      "\n",
      "\u001b[1mColumn means\u001b[0m:\n"
     ]
    },
    {
     "data": {
      "text/plain": [
       "tensor([-3.9200,  1.7500,  1.4200,  0.7500])"
      ]
     },
     "metadata": {},
     "output_type": "display_data"
    }
   ],
   "source": [
    "sample_matrix_row = torch.mm(sample_matrix, get_centering_matrix(sample_matrix.size(dim=1)))\n",
    "\n",
    "display(torch.round(sample_matrix_row, decimals=2))\n",
    "print(\"\\n\\033[1mRow means\\033[0m:\")\n",
    "display(torch.round(sample_matrix_row.mean(dim=1), decimals=2))\n",
    "print(\"\\n\\033[1mColumn means\\033[0m:\")\n",
    "display(torch.round(sample_matrix_row.mean(dim=0), decimals=2))"
   ]
  },
  {
   "cell_type": "markdown",
   "id": "93fc2632-11c2-433d-8fa7-7eb0f97fcd86",
   "metadata": {},
   "source": [
    "### Centering Rows & Columns\n",
    "\n",
    "Simultaneously multiplying a matrix $A$ with the appropriate centering matrices **from the left and right**, results in a matrix\n",
    "$$\n",
    "C_m A C_n \\,,\n",
    "$$\n",
    "whose **rows and columns both have $0$ mean**."
   ]
  },
  {
   "cell_type": "code",
   "execution_count": 6,
   "id": "fe589753-76c7-47bd-b651-224a7f3b1175",
   "metadata": {},
   "outputs": [
    {
     "data": {
      "text/plain": [
       "tensor([[-3.8300, -4.5000,  4.8300,  3.5000],\n",
       "        [ 3.6700,  7.0000, -7.6700, -3.0000],\n",
       "        [ 0.1700, -2.5000,  2.8300, -0.5000]])"
      ]
     },
     "metadata": {},
     "output_type": "display_data"
    },
    {
     "name": "stdout",
     "output_type": "stream",
     "text": [
      "\n",
      "\u001b[1mRow means\u001b[0m:\n"
     ]
    },
    {
     "data": {
      "text/plain": [
       "tensor([-0., -0., -0.])"
      ]
     },
     "metadata": {},
     "output_type": "display_data"
    },
    {
     "name": "stdout",
     "output_type": "stream",
     "text": [
      "\n",
      "\u001b[1mColumn means\u001b[0m:\n"
     ]
    },
    {
     "data": {
      "text/plain": [
       "tensor([0., -0., -0., -0.])"
      ]
     },
     "metadata": {},
     "output_type": "display_data"
    }
   ],
   "source": [
    "sample_matrix_both = torch.mm(\n",
    "    torch.mm(get_centering_matrix(sample_matrix.size(dim=0)), sample_matrix),\n",
    "    get_centering_matrix(sample_matrix.size(dim=1))\n",
    ")\n",
    "\n",
    "display(torch.round(sample_matrix_both, decimals=2))\n",
    "print(\"\\n\\033[1mRow means\\033[0m:\")\n",
    "display(torch.round(sample_matrix_both.mean(dim=1), decimals=2))\n",
    "print(\"\\n\\033[1mColumn means\\033[0m:\")\n",
    "display(torch.round(sample_matrix_both.mean(dim=0), decimals=2))"
   ]
  }
 ],
 "metadata": {
  "kernelspec": {
   "display_name": "Python 3 (ipykernel)",
   "language": "python",
   "name": "python3"
  },
  "language_info": {
   "codemirror_mode": {
    "name": "ipython",
    "version": 3
   },
   "file_extension": ".py",
   "mimetype": "text/x-python",
   "name": "python",
   "nbconvert_exporter": "python",
   "pygments_lexer": "ipython3",
   "version": "3.11.9"
  }
 },
 "nbformat": 4,
 "nbformat_minor": 5
}
