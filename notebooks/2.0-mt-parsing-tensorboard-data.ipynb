{
 "cells": [
  {
   "cell_type": "markdown",
   "id": "c4a3e682-e0c6-4957-9304-4d91211ce454",
   "metadata": {},
   "source": [
    "# Parsing TensorBoard Data\n",
    "\n",
    "https://github.com/j3soon/tbparse/tree/master  \n",
    "https://tbparse.readthedocs.io/en/latest/\n",
    "\n",
    "\n",
    "## Imports"
   ]
  },
  {
   "cell_type": "code",
   "execution_count": 1,
   "id": "5a225cd0-b286-44ee-ad2f-61a5fecbe70e",
   "metadata": {},
   "outputs": [],
   "source": [
    "import tempfile\n",
    "\n",
    "from torch.utils.tensorboard import SummaryWriter\n",
    "from tbparse import SummaryReader"
   ]
  },
  {
   "cell_type": "markdown",
   "id": "38afd930-e6f4-4e0b-a1a7-97ab7c232789",
   "metadata": {},
   "source": [
    "## Constants & Preparations"
   ]
  },
  {
   "cell_type": "code",
   "execution_count": 2,
   "id": "069a884f-8d16-4e6d-863c-112536bd1bd6",
   "metadata": {},
   "outputs": [],
   "source": [
    "# Used to create sample event logs\n",
    "N_RUNS = 2\n",
    "N_EVENTS = 3"
   ]
  },
  {
   "cell_type": "markdown",
   "id": "1b74e292-9064-4ac0-8d43-5fdab15b042e",
   "metadata": {},
   "source": [
    "## Preparing Sample Event Logs\n",
    "\n",
    "To illustrate the use of `tbparse`, we create some sample event logs as is done [here](https://tbparse.readthedocs.io/en/latest/pages/parsing-scalars.html#preparing-sample-event-logs). "
   ]
  },
  {
   "cell_type": "code",
   "execution_count": 3,
   "id": "91796d49-fcf6-4d64-8232-41a663bea6d7",
   "metadata": {},
   "outputs": [],
   "source": [
    "# Prepare tmpdirs to store event files\n",
    "tmpdirs = {'torch': tempfile.TemporaryDirectory()}\n",
    "LOG_DIR = tmpdirs['torch'].name"
   ]
  },
  {
   "cell_type": "markdown",
   "id": "3be47461-c042-4e1f-8f51-cb1d3af804e4",
   "metadata": {},
   "source": [
    "Next, we simulate two independent training runs."
   ]
  },
  {
   "cell_type": "code",
   "execution_count": 4,
   "id": "ecd873fe-1304-4154-af00-ce13a10cc792",
   "metadata": {},
   "outputs": [],
   "source": [
    "for i in range(N_RUNS):\n",
    "    writer = SummaryWriter(f\"{LOG_DIR}/run_{i}\")\n",
    "    # We store 2 tags, each with 3 events\n",
    "    for j in range(N_EVENTS):\n",
    "        writer.add_scalar('y=2x+C', j * 2 + i, j)\n",
    "        writer.add_scalar('y=3x+C', j * 3 + i, j)\n",
    "    writer.close()"
   ]
  },
  {
   "cell_type": "markdown",
   "id": "bb2c8546-41f5-4734-b56d-c9015571295e",
   "metadata": {},
   "source": [
    "## Parsing Scalars\n",
    "\n",
    "The `SummaryReader` class allows us to read:\n",
    "- a single event file\n",
    "- all event files under a (sub-)directory (of the log directory)\n",
    "- all files under the log directory\n",
    "\n",
    "\n",
    "### Load Log Directory\n",
    "\n",
    "https://tbparse.readthedocs.io/en/latest/pages/parsing-scalars.html#load-log-directory\n",
    "\n",
    "We can distinguish multiple runs (i.e., event files), by passing `extra_columns={'dir_name'}` to the `SummaryReader` as follows:"
   ]
  },
  {
   "cell_type": "code",
   "execution_count": 5,
   "id": "d34f521c-dad5-4c68-a679-953d17d386d9",
   "metadata": {},
   "outputs": [
    {
     "name": "stdout",
     "output_type": "stream",
     "text": [
      "    step     tag  value dir_name\n",
      "0      0  y=2x+C    0.0    run_0\n",
      "1      1  y=2x+C    2.0    run_0\n",
      "2      2  y=2x+C    4.0    run_0\n",
      "3      0  y=3x+C    0.0    run_0\n",
      "4      1  y=3x+C    3.0    run_0\n",
      "5      2  y=3x+C    6.0    run_0\n",
      "6      0  y=2x+C    1.0    run_1\n",
      "7      1  y=2x+C    3.0    run_1\n",
      "8      2  y=2x+C    5.0    run_1\n",
      "9      0  y=3x+C    1.0    run_1\n",
      "10     1  y=3x+C    4.0    run_1\n",
      "11     2  y=3x+C    7.0    run_1\n"
     ]
    }
   ],
   "source": [
    "reader = SummaryReader(LOG_DIR, extra_columns={'dir_name'})  # long format\n",
    "df = reader.scalars\n",
    "print(df)"
   ]
  },
  {
   "cell_type": "markdown",
   "id": "acd0eca8-d863-40ef-a95e-fee3fa7ba6a3",
   "metadata": {},
   "source": [
    "By default, the events are stored in **long format**. To store the events in **wide format**, we pass `pivot=True` to the `SummaryReader` class:"
   ]
  },
  {
   "cell_type": "code",
   "execution_count": 6,
   "id": "8f990ed5-036f-48a1-b754-aaabbf09cc51",
   "metadata": {},
   "outputs": [
    {
     "name": "stdout",
     "output_type": "stream",
     "text": [
      "   step  y=2x+C  y=3x+C dir_name\n",
      "0     0     0.0     0.0    run_0\n",
      "1     1     2.0     3.0    run_0\n",
      "2     2     4.0     6.0    run_0\n",
      "3     0     1.0     1.0    run_1\n",
      "4     1     3.0     4.0    run_1\n",
      "5     2     5.0     7.0    run_1\n"
     ]
    }
   ],
   "source": [
    "reader = SummaryReader(LOG_DIR, pivot=True, extra_columns={'dir_name'})  # wide format\n",
    "df = reader.scalars\n",
    "print(df)"
   ]
  }
 ],
 "metadata": {
  "kernelspec": {
   "display_name": "Python 3 (ipykernel)",
   "language": "python",
   "name": "python3"
  },
  "language_info": {
   "codemirror_mode": {
    "name": "ipython",
    "version": 3
   },
   "file_extension": ".py",
   "mimetype": "text/x-python",
   "name": "python",
   "nbconvert_exporter": "python",
   "pygments_lexer": "ipython3",
   "version": "3.11.9"
  }
 },
 "nbformat": 4,
 "nbformat_minor": 5
}
